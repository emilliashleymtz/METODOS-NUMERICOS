{
  "nbformat": 4,
  "nbformat_minor": 0,
  "metadata": {
    "colab": {
      "provenance": [],
      "authorship_tag": "ABX9TyO4Ahx8rY7995Cd6PVQNqcm",
      "include_colab_link": true
    },
    "kernelspec": {
      "name": "python3",
      "display_name": "Python 3"
    },
    "language_info": {
      "name": "python"
    }
  },
  "cells": [
    {
      "cell_type": "markdown",
      "metadata": {
        "id": "view-in-github",
        "colab_type": "text"
      },
      "source": [
        "<a href=\"https://colab.research.google.com/github/emilliashleymtz/METODOS-NUMERICOS/blob/main/ITERACION_DE_PUNTO_FIJO.ipynb\" target=\"_parent\"><img src=\"https://colab.research.google.com/assets/colab-badge.svg\" alt=\"Open In Colab\"/></a>"
      ]
    },
    {
      "cell_type": "code",
      "execution_count": null,
      "metadata": {
        "id": "LOETCQ-CkhLv"
      },
      "outputs": [],
      "source": [
        "from math import *\n",
        "import numpy as np\n",
        "import matplotlib . pyplot as plt\n",
        "#MARTINEZ PEREA EMILLI"
      ]
    },
    {
      "cell_type": "code",
      "source": [
        "def funcion(x):\n",
        "    return np.exp(-x)-x\n",
        "\n",
        "def funciong(x):\n",
        "  return np.exp(-x)"
      ],
      "metadata": {
        "id": "OKtRwCqWkt1K"
      },
      "execution_count": null,
      "outputs": []
    },
    {
      "cell_type": "code",
      "source": [
        "# Ingreso datos de entrada para los diferentes métodos a trabajar\n",
        "a = 0\n",
        "b = 1\n",
        "\n",
        "# guarda valores iniciales\n",
        "a0 = a\n",
        "b0 = b\n",
        "\n",
        "tolerancia = 0.001 \n",
        "itermax = 15 \n",
        "error = 0\n",
        "niter = 0\n"
      ],
      "metadata": {
        "id": "P8NiHbjnkv7X"
      },
      "execution_count": null,
      "outputs": []
    },
    {
      "cell_type": "code",
      "source": [
        "#iteracion de punto fijo\n",
        "p=a\n",
        "\n",
        "#Evaluacion de la función en los puntos a, b y m\n",
        "fa = funcion(p)\n",
        "gp = funciong(p)\n",
        "\n",
        "print(\"# iter\\t\\t p0 \\t\\t g(p0) \\t\\t error \\t\\t error\")\n",
        "print(\"{0} \\t\\t {1:6.4f} \\t {2:6.4f} \\t {3:6.4f} \\t {4:6.4f}\".format(niter, p , gp, fa, error))\n",
        "\n",
        "# ciclo iterativo\n",
        "p=funciong(a)\n",
        "while niter <= itermax:\n",
        "    a=gp\n",
        "    fp= funciong(a)\n",
        "    gp = funciong(a)\n",
        "    #fa= funcion(p)\n",
        "    error = abs(a-fp)\n",
        "    niter += 1\n",
        "    print(\"{0} \\t\\t {1:6.6f} \\t {2:6.6f} \\t {3:6.6f} \\t {4:6.6f}\".format(niter, a, fp, error, error ))\n",
        "\n",
        "print(\"La raíz de la función dada en el intervalo [{0:6.4f},{1:6.4f}] es {2:6.7f}\".format(a0,b0,gp))\n",
        "\n"
      ],
      "metadata": {
        "colab": {
          "base_uri": "https://localhost:8080/"
        },
        "id": "7qdVPolhl0WV",
        "outputId": "348fcef9-de60-47f3-d17e-1c2b699306e2"
      },
      "execution_count": null,
      "outputs": [
        {
          "output_type": "stream",
          "name": "stdout",
          "text": [
            "# iter\t\t p0 \t\t g(p0) \t\t error \t\t error\n",
            "0 \t\t 0.0000 \t 1.0000 \t 1.0000 \t 0.0000\n",
            "1 \t\t 1.000000 \t 0.367879 \t 0.632121 \t 0.632121\n",
            "2 \t\t 0.367879 \t 0.692201 \t 0.324321 \t 0.324321\n",
            "3 \t\t 0.692201 \t 0.500474 \t 0.191727 \t 0.191727\n",
            "4 \t\t 0.500474 \t 0.606244 \t 0.105770 \t 0.105770\n",
            "5 \t\t 0.606244 \t 0.545396 \t 0.060848 \t 0.060848\n",
            "6 \t\t 0.545396 \t 0.579612 \t 0.034217 \t 0.034217\n",
            "7 \t\t 0.579612 \t 0.560115 \t 0.019497 \t 0.019497\n",
            "8 \t\t 0.560115 \t 0.571143 \t 0.011028 \t 0.011028\n",
            "9 \t\t 0.571143 \t 0.564879 \t 0.006264 \t 0.006264\n",
            "10 \t\t 0.564879 \t 0.568429 \t 0.003549 \t 0.003549\n",
            "11 \t\t 0.568429 \t 0.566415 \t 0.002014 \t 0.002014\n",
            "12 \t\t 0.566415 \t 0.567557 \t 0.001142 \t 0.001142\n",
            "13 \t\t 0.567557 \t 0.566909 \t 0.000648 \t 0.000648\n",
            "14 \t\t 0.566909 \t 0.567276 \t 0.000367 \t 0.000367\n",
            "15 \t\t 0.567276 \t 0.567068 \t 0.000208 \t 0.000208\n",
            "16 \t\t 0.567068 \t 0.567186 \t 0.000118 \t 0.000118\n",
            "La raíz de la función dada en el intervalo [0.0000,1.0000] es 0.5671861\n"
          ]
        }
      ]
    }
  ]
}