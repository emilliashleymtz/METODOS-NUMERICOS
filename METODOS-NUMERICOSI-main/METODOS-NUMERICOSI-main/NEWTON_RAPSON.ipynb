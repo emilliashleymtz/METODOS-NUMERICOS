{
  "nbformat": 4,
  "nbformat_minor": 0,
  "metadata": {
    "colab": {
      "provenance": []
    },
    "kernelspec": {
      "name": "python3",
      "display_name": "Python 3"
    },
    "language_info": {
      "name": "python"
    }
  },
  "cells": [
    {
      "cell_type": "code",
      "execution_count": 37,
      "metadata": {
        "id": "9O62rD3P4hS-"
      },
      "outputs": [],
      "source": [
        "from math import *\n",
        "import numpy as np\n",
        "#MARTINEZ PEREA EMILLI\n",
        "\n",
        "def funcion(x):\n",
        "    return x**3 + 4*(x**2)-10\n",
        "\n",
        "def derivada(x):\n",
        "  return 3*(x**2)+8*x"
      ]
    },
    {
      "cell_type": "code",
      "source": [
        "# Ingreso datos de entrada para los diferentes métodos a trabajar\n",
        "x0 = 3/2\n",
        "i=0\n",
        "tolerancia = 0.00000000000001 "
      ],
      "metadata": {
        "id": "hrHVTW7C6f3l"
      },
      "execution_count": 38,
      "outputs": []
    },
    {
      "cell_type": "code",
      "source": [
        "error=abs(2*tolerancia)\n",
        "xi=x0\n",
        "\n",
        "print(\"# iter \\t\\t pn \\t\\t error\")\n",
        "\n",
        "while (error>=tolerancia):\n",
        "  pn=xi-(funcion(xi)/derivada(xi))\n",
        "  error=abs(pn-xi)\n",
        "  print(\"{0} \\t\\t {1:6.6f} \\t {2:6.6f}\".format(i, xi , error ))\n",
        "  xi=pn\n",
        "  i += 1\n"
      ],
      "metadata": {
        "colab": {
          "base_uri": "https://localhost:8080/"
        },
        "id": "y_bz7-oE6yCO",
        "outputId": "3372ddc8-cd44-47b2-fc81-01426a029681"
      },
      "execution_count": 39,
      "outputs": [
        {
          "output_type": "stream",
          "name": "stdout",
          "text": [
            "# iter \t\t pn \t\t error\n",
            "0 \t\t 1.500000 \t 0.126667\n",
            "1 \t\t 1.373333 \t 0.008071\n",
            "2 \t\t 1.365262 \t 0.000032\n",
            "3 \t\t 1.365230 \t 0.000000\n",
            "4 \t\t 1.365230 \t 0.000000\n"
          ]
        }
      ]
    }
  ]
}